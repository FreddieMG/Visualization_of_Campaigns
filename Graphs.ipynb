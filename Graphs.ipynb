{
 "cells": [
  {
   "cell_type": "code",
   "execution_count": 11,
   "metadata": {
    "collapsed": true,
    "ExecuteTime": {
     "end_time": "2023-06-23T06:57:08.155942Z",
     "start_time": "2023-06-23T06:57:08.136439200Z"
    }
   },
   "outputs": [
    {
     "data": {
      "text/plain": "'C:\\\\Users\\\\Lior\\\\Desktop\\\\Information-Visualization\\\\pages'"
     },
     "execution_count": 11,
     "metadata": {},
     "output_type": "execute_result"
    }
   ],
   "source": []
  },
  {
   "cell_type": "code",
   "execution_count": 12,
   "outputs": [],
   "source": [
    "import dash\n",
    "from dash import Input, Output, State, html, dcc, dash_table, MATCH, ALL, ctx\n",
    "import dash_mantine_components as dmc\n",
    "from dash_iconify import DashIconify\n",
    "import pandas as pd\n",
    "import plotly.graph_objects as go\n",
    "from datetime import datetime, time, timedelta\n",
    "import time as time_pck\n",
    "import os\n",
    "import dash_daq as daq\n",
    "import plotly.express as px\n",
    "import plotly.graph_objects as go\n",
    "\n",
    "from app import app\n",
    "import streamlit\n",
    "os.chdir('../')"
   ],
   "metadata": {
    "collapsed": false,
    "ExecuteTime": {
     "end_time": "2023-06-23T06:57:27.628533300Z",
     "start_time": "2023-06-23T06:57:27.616533Z"
    }
   }
  },
  {
   "cell_type": "code",
   "execution_count": null,
   "outputs": [],
   "source": [
    "\n",
    "fig = px.line(dff, x='year', y='percent_participation', color='progress_names',\n",
    "                  line_dash='goals_names', hover_data=['camp_name', 'location'])\n",
    "\n",
    "    fig.update_layout(\n",
    "        xaxis_title='Year',\n",
    "        yaxis_title='Campaign Size',\n",
    "        title='Campaign Sizes over Time'\n",
    "    )"
   ],
   "metadata": {
    "collapsed": false
   }
  },
  {
   "cell_type": "code",
   "execution_count": 13,
   "outputs": [],
   "source": [],
   "metadata": {
    "collapsed": false,
    "ExecuteTime": {
     "end_time": "2023-06-23T06:57:28.466960700Z",
     "start_time": "2023-06-23T06:57:28.439959900Z"
    }
   }
  },
  {
   "cell_type": "code",
   "execution_count": null,
   "outputs": [],
   "source": [
    "graph_a(year_range):\n",
    "    df2 = pd.read_csv('data/processed_data.csv')\n",
    "\n",
    "    dff = df2[df2['year'].between(year_range[0], year_range[1])]\n",
    "    print(len(dff))\n",
    "    fig = px.line(dff, x='year', y='percent_participation', color='progress_names',\n",
    "                  line_dash='goals_names', hover_data=['camp_name', 'location'])\n",
    "\n",
    "    fig.update_layout(\n",
    "        xaxis_title='Year',\n",
    "        yaxis_title='Campaign Size',\n",
    "        title='Campaign Sizes over Time'\n",
    "    )\n",
    "    return fig"
   ],
   "metadata": {
    "collapsed": false
   }
  }
 ],
 "metadata": {
  "kernelspec": {
   "display_name": "Python 3",
   "language": "python",
   "name": "python3"
  },
  "language_info": {
   "codemirror_mode": {
    "name": "ipython",
    "version": 2
   },
   "file_extension": ".py",
   "mimetype": "text/x-python",
   "name": "python",
   "nbconvert_exporter": "python",
   "pygments_lexer": "ipython2",
   "version": "2.7.6"
  }
 },
 "nbformat": 4,
 "nbformat_minor": 0
}
